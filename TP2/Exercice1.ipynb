{
 "cells": [
  {
   "cell_type": "code",
   "execution_count": 25,
   "metadata": {},
   "outputs": [
    {
     "name": "stdout",
     "output_type": "stream",
     "text": [
      "Aap44193th23zyt889D3on\n",
      "Aap44193th23zyt889D3on\n",
      "mot =Aap44193th23zyt889D3on\n"
     ]
    }
   ],
   "source": [
    "#exercice1 TP2 \n",
    "#1\n",
    "### exemple 1\n",
    "mot = \" Aap44193th23zyt889D3on   \"\n",
    "resultat = \"\"\n",
    "for i in range(len(mot)):\n",
    "    if mot[i] != \" \":  \n",
    "        resultat += mot[i]\n",
    "print(resultat)\n",
    "### exemple 2\n",
    "mot=mot.replace(\" \",\"\")\n",
    "print(mot)\n",
    "#exemple3\n",
    "mot=mot.lstrip()\n",
    "print(\"mot =%s\"%mot)"
   ]
  },
  {
   "cell_type": "code",
   "execution_count": 27,
   "metadata": {},
   "outputs": [
    {
     "name": "stdout",
     "output_type": "stream",
     "text": [
      "Nombre de lettres en majuscule dans 'Aap44193th23zyt889D3on' : 2\n"
     ]
    }
   ],
   "source": [
    "#2\n",
    "nb = 0\n",
    "mot=\"Aap44193th23zyt889D3on\"\n",
    "for i in range(len(mot)):\n",
    "    if mot[i].upper():\n",
    "        nb += 1\n",
    "print(f\"Nombre de lettres en majuscule dans '{mot}' : {nb}\")\n"
   ]
  },
  {
   "cell_type": "code",
   "execution_count": 28,
   "metadata": {},
   "outputs": [
    {
     "name": "stdout",
     "output_type": "stream",
     "text": [
      "Nombre de caractere non redondants dans mot 11\n"
     ]
    }
   ],
   "source": [
    "#3\n",
    "mot=\"Aap44193th23zyt889D3on\"\n",
    "nb=0\n",
    "for i in mot:\n",
    "    if mot.count(i)==1:\n",
    "        nb+=1\n",
    "print(f\"Nombre de caractere non redondants dans mot {nb}\")\n",
    "\n"
   ]
  },
  {
   "cell_type": "code",
   "execution_count": null,
   "metadata": {},
   "outputs": [],
   "source": []
  },
  {
   "cell_type": "code",
   "execution_count": 29,
   "metadata": {},
   "outputs": [
    {
     "name": "stdout",
     "output_type": "stream",
     "text": [
      "no3D988tyz32ht39144p??\n"
     ]
    }
   ],
   "source": [
    "#4\n",
    "mot=\"Aap44193th23zyt889D3on\"\n",
    "mot = mot.replace(\"A\", \"?\").replace(\"a\", \"?\")[::-1]\n",
    "print(mot)"
   ]
  },
  {
   "cell_type": "code",
   "execution_count": 30,
   "metadata": {},
   "outputs": [
    {
     "name": "stdout",
     "output_type": "stream",
     "text": [
      "Aap@93th23zyt@D3on\n",
      "Aap@93th23zyt@D3on\n"
     ]
    }
   ],
   "source": [
    "#5\n",
    "#exemple1\n",
    "import re \n",
    "mot=\"Aap44193th23zyt889D3on\"\n",
    "mot_modif=re.sub(r'\\d{3}','@',mot)\n",
    "print(mot_modif)\n",
    "#exemple2\n",
    "mot1=''\n",
    "i=0\n",
    "while i<len(mot):\n",
    "    if i<len(mot)-3 and mot [i:i+3].isdigit():\n",
    "        mot1+='@'\n",
    "        i+=3\n",
    "    else:\n",
    "        mot1+=mot[i]\n",
    "        i+=1\n",
    "print(mot1)\n"
   ]
  },
  {
   "cell_type": "code",
   "execution_count": null,
   "metadata": {},
   "outputs": [],
   "source": []
  },
  {
   "cell_type": "code",
   "execution_count": 8,
   "metadata": {},
   "outputs": [
    {
     "ename": "NameError",
     "evalue": "name 'mot1' is not defined",
     "output_type": "error",
     "traceback": [
      "\u001b[1;31m---------------------------------------------------------------------------\u001b[0m",
      "\u001b[1;31mNameError\u001b[0m                                 Traceback (most recent call last)",
      "Cell \u001b[1;32mIn[8], line 3\u001b[0m\n\u001b[0;32m      1\u001b[0m \u001b[38;5;66;03m#6\u001b[39;00m\n\u001b[0;32m      2\u001b[0m t\u001b[38;5;241m=\u001b[39m\u001b[38;5;241m0\u001b[39m\n\u001b[1;32m----> 3\u001b[0m \u001b[38;5;28;01mfor\u001b[39;00m i \u001b[38;5;129;01min\u001b[39;00m \u001b[43mmot1\u001b[49m:\n\u001b[0;32m      4\u001b[0m     \u001b[38;5;28;01mif\u001b[39;00m(i\u001b[38;5;241m.\u001b[39misdigit()):\n\u001b[0;32m      5\u001b[0m         t\u001b[38;5;241m+\u001b[39m\u001b[38;5;241m=\u001b[39m\u001b[38;5;28mint\u001b[39m(i)\n",
      "\u001b[1;31mNameError\u001b[0m: name 'mot1' is not defined"
     ]
    }
   ],
   "source": [
    "#6\n",
    "t=0\n",
    "for i in mot1:\n",
    "    if(i.isdigit()):\n",
    "        t+=int(i)\n",
    "print(t)"
   ]
  },
  {
   "cell_type": "code",
   "execution_count": 35,
   "metadata": {},
   "outputs": [
    {
     "name": "stdout",
     "output_type": "stream",
     "text": [
      "AAP44193TH23ZYT889D3ON est non composable de  PPYTHON\n"
     ]
    }
   ],
   "source": [
    "#7\n",
    "mot=\"Aap44193th23zyt889D3on\".upper()\n",
    "ch=\"Ppython\".upper()\n",
    "b=True\n",
    "for i in mot:\n",
    "    if mot.count(i)!=1:\n",
    "        b=False\n",
    "        break;\n",
    "if b:\n",
    "        print(mot,\"composable\",ch)\n",
    "else:\n",
    "        print(mot, \"est non composable de \",ch)"
   ]
  },
  {
   "cell_type": "code",
   "execution_count": null,
   "metadata": {},
   "outputs": [],
   "source": [
    "mot=\"Aap44193th23zyt889D3on\".upper()\n",
    "ch=\"Ppython\".upper()\n",
    "for i in mot:\n",
    "    for j in ch:\n",
    "     "
   ]
  },
  {
   "cell_type": "code",
   "execution_count": 48,
   "metadata": {},
   "outputs": [
    {
     "name": "stdout",
     "output_type": "stream",
     "text": [
      "[16, 1, 2, [26, 5]]\n"
     ]
    }
   ],
   "source": [
    "liste=[1,True,'a','b','c',[3,5]]#liste est modifiable par rapport {}\n",
    "liste[1:5]=[1,2]\n",
    "liste[:4]\n",
    "liste[0]=16\n",
    "liste[-1][0]=26\n",
    "print(liste)"
   ]
  },
  {
   "cell_type": "code",
   "execution_count": 49,
   "metadata": {},
   "outputs": [
    {
     "name": "stdout",
     "output_type": "stream",
     "text": [
      "[16, 1, 2, [26, 5], 'a', 'b']\n"
     ]
    }
   ],
   "source": [
    "l=['a','b']\n",
    "print(liste+l)\n"
   ]
  },
  {
   "cell_type": "code",
   "execution_count": null,
   "metadata": {},
   "outputs": [
    {
     "ename": "TypeError",
     "evalue": "'int' object is not iterable",
     "output_type": "error",
     "traceback": [
      "\u001b[1;31m---------------------------------------------------------------------------\u001b[0m\n",
      "\u001b[1;31mTypeError\u001b[0m                                 Traceback (most recent call last)\n",
      "Cell \u001b[1;32mIn[44], line 3\u001b[0m\n",
      "\u001b[0;32m      1\u001b[0m \u001b[38;5;66;03m#6\u001b[39;00m\n",
      "\u001b[0;32m      2\u001b[0m t\u001b[38;5;241m=\u001b[39m\u001b[38;5;241m0\u001b[39m\n",
      "\u001b[1;32m----> 3\u001b[0m \u001b[38;5;28;43;01mfor\u001b[39;49;00m\u001b[43m \u001b[49m\u001b[43mi\u001b[49m\u001b[43m \u001b[49m\u001b[38;5;129;43;01min\u001b[39;49;00m\u001b[43m \u001b[49m\u001b[43mmot1\u001b[49m\u001b[43m:\u001b[49m\n",
      "\u001b[0;32m      4\u001b[0m \u001b[43m    \u001b[49m\u001b[38;5;28;43;01mif\u001b[39;49;00m\u001b[43m(\u001b[49m\u001b[43mi\u001b[49m\u001b[38;5;241;43m.\u001b[39;49m\u001b[43misdigit\u001b[49m\u001b[43m(\u001b[49m\u001b[43m)\u001b[49m\u001b[43m)\u001b[49m\u001b[43m:\u001b[49m\n",
      "\u001b[0;32m      5\u001b[0m \u001b[43m        \u001b[49m\u001b[43mt\u001b[49m\u001b[38;5;241;43m+\u001b[39;49m\u001b[38;5;241;43m=\u001b[39;49m\u001b[38;5;28;43mint\u001b[39;49m\u001b[43m(\u001b[49m\u001b[43mi\u001b[49m\u001b[43m)\u001b[49m\n",
      "\n",
      "\u001b[1;31mTypeError\u001b[0m: 'int' object is not iterable"
     ]
    }
   ],
   "source": [
    "#6\n",
    "t=0\n",
    "for i in mot1:\n",
    "    if(i.isdigit()):\n",
    "        t+=int(i)\n",
    "print(t)"
   ]
  },
  {
   "cell_type": "code",
   "execution_count": 50,
   "metadata": {},
   "outputs": [
    {
     "name": "stdout",
     "output_type": "stream",
     "text": [
      "[20, 30, 40, 100]\n"
     ]
    }
   ],
   "source": [
    "liste=[100,30,20,40]\n",
    "liste.sort(reverse=True)\n",
    "#liste[::-1]\n",
    "print(liste)"
   ]
  },
  {
   "cell_type": "code",
   "execution_count": 56,
   "metadata": {},
   "outputs": [
    {
     "name": "stdout",
     "output_type": "stream",
     "text": [
      "[20, 30, 40, 100]\n"
     ]
    }
   ],
   "source": [
    "liste=[100,30,20,40]\n",
    "x=sorted(liste)#sorted \n",
    "print(x)"
   ]
  },
  {
   "cell_type": "code",
   "execution_count": 58,
   "metadata": {},
   "outputs": [
    {
     "name": "stdout",
     "output_type": "stream",
     "text": [
      "['kiwi', 'pomme', 'bannane']\n"
     ]
    }
   ],
   "source": [
    "listeFruit=[\"bannane\",\"pomme\",\"kiwi\"]\n",
    "liste=sorted(listeFruit,key=len)\n",
    "print(liste)"
   ]
  },
  {
   "cell_type": "code",
   "execution_count": 59,
   "metadata": {},
   "outputs": [
    {
     "data": {
      "text/plain": [
       "\"['Bonjour', 'à', 'tous']\""
      ]
     },
     "execution_count": 59,
     "metadata": {},
     "output_type": "execute_result"
    }
   ],
   "source": [
    "liste = ['Bonjour', 'à', 'tous']\n",
    "x=str(liste)\n",
    "x"
   ]
  },
  {
   "cell_type": "code",
   "execution_count": 61,
   "metadata": {},
   "outputs": [
    {
     "name": "stdout",
     "output_type": "stream",
     "text": [
      "Bonjour*à*tous*1\n"
     ]
    }
   ],
   "source": [
    "liste = ['Bonjour', 'à', 'tous','1']\n",
    "x='*'.join(liste)\n",
    "print(x)"
   ]
  },
  {
   "cell_type": "code",
   "execution_count": 65,
   "metadata": {},
   "outputs": [
    {
     "name": "stdout",
     "output_type": "stream",
     "text": [
      "banane kiwi pomme orange fraise "
     ]
    }
   ],
   "source": [
    "listeFruit = [\"banane\", \"kiwi\", \"pomme\", \"orange\", \"fraise\"]\n",
    "for i in listeFruit:\n",
    "   print(i,end=' ')"
   ]
  },
  {
   "cell_type": "code",
   "execution_count": 82,
   "metadata": {},
   "outputs": [
    {
     "name": "stdout",
     "output_type": "stream",
     "text": [
      "2\n",
      "c\n",
      "Salut\n",
      "\n",
      "B\n",
      "o\n",
      "n\n",
      "\n",
      "3\n",
      "4\n",
      "\n"
     ]
    }
   ],
   "source": [
    "liste1 = [2, 'c', 'Salut']\n",
    "listes = [liste1, 'Bon', [3,4]]\n",
    "\n",
    "for i in listes:\n",
    "    for j in i:\n",
    "         print(j)\n",
    "    print()\n",
    " \n",
    " \n",
    "\n",
    "\n"
   ]
  },
  {
   "cell_type": "code",
   "execution_count": 100,
   "metadata": {},
   "outputs": [
    {
     "name": "stdout",
     "output_type": "stream",
     "text": [
      "<class 'NoneType'>\n",
      "None\n",
      "<class 'int'>\n",
      "<class 'float'>\n",
      "affichier c : Islem\n",
      "zouari <class 'str'>\n",
      "a\n",
      "Islem\n",
      "zouari\n"
     ]
    },
    {
     "data": {
      "text/plain": [
       "NoneType"
      ]
     },
     "execution_count": 100,
     "metadata": {},
     "output_type": "execute_result"
    }
   ],
   "source": [
    "a=-12\n",
    "b=0.3\n",
    "c=\"Islem\\nzouari\"\n",
    "s=None\n",
    "print(type(s))\n",
    "print(s)\n",
    "print(type(a) )\n",
    "print(type(b))\n",
    "print(f\"affichier c : {c}\",type(c))\n",
    "type(print(\"a\"))\n",
    "az=print(c)\n",
    "type(az)\n",
    "\n",
    "\n",
    "\n"
   ]
  },
  {
   "cell_type": "code",
   "execution_count": 148,
   "metadata": {},
   "outputs": [
    {
     "name": "stdout",
     "output_type": "stream",
     "text": [
      "2\n",
      "a\n",
      "c\n",
      "97 101 65 69\n"
     ]
    }
   ],
   "source": [
    "print(23%3) #addition\n",
    "9.2 - 4.3 #soustraction\n",
    "5*8 #multiplication\n",
    "1/2 #division\n",
    "1.2/2.2 #division\n",
    "2**4 #puissance\n",
    "pow(2.5,3.6) #pow est une fonction prédéfinie\n",
    "#qui retourne la puissance\n",
    "23//3 #quotient de la division entière : 7\n",
    "23%3 #reste de la division entière : 2\n",
    "divmod(23,3) # renvoie la paire (23//3, 23%3)\n",
    "(7, 2)\n",
    "abs(-5) #renvoie la valeur absolue de 5 : \n",
    "c='a'\n",
    "print(c)\n",
    "ord(c)\n",
    "print(chr(99))\n",
    "1<2 != 3 <= 4 <= 5 != 6  == 6\n",
    "print(ord ('a'),ord('e'),ord('A'),ord('E'))\n",
    "'ae'< 'AEae'< 'EAe' >'aAE'\n",
    "\n"
   ]
  },
  {
   "cell_type": "code",
   "execution_count": 8,
   "metadata": {},
   "outputs": [
    {
     "name": "stdout",
     "output_type": "stream",
     "text": [
      "0\n",
      "<class 'int'>\n"
     ]
    }
   ],
   "source": [
    "a=eval(input(\"Entrez votre nom: \"))\n",
    "print(a)\n",
    "print(type(a))"
   ]
  },
  {
   "cell_type": "code",
   "execution_count": 18,
   "metadata": {},
   "outputs": [
    {
     "name": "stdout",
     "output_type": "stream",
     "text": [
      "l'age l etudiante Fatma est 20 ans . sa moyenne =15.4\n",
      "22\n",
      "23.21\n"
     ]
    }
   ],
   "source": [
    "nom=\"Fatma\" \n",
    "age=20 \n",
    "moyen=15.4\n",
    "print(\"l'age l etudiante {0} est {1} ans . sa moyenne ={2}\".format(nom,age,moyen))\n",
    "x=22\n",
    "y=23.21\n",
    "print(\"{:d}\".format(x))\n",
    "\n",
    "print(\"{:.2F}\".format(y))"
   ]
  },
  {
   "cell_type": "code",
   "execution_count": 48,
   "metadata": {},
   "outputs": [
    {
     "data": {
      "text/plain": [
       "False"
      ]
     },
     "execution_count": 48,
     "metadata": {},
     "output_type": "execute_result"
    }
   ],
   "source": [
    "x=2003\n",
    "y=2003\n",
    "x is y\n"
   ]
  },
  {
   "cell_type": "code",
   "execution_count": 46,
   "metadata": {},
   "outputs": [
    {
     "data": {
      "text/plain": [
       "(False, True)"
      ]
     },
     "execution_count": 46,
     "metadata": {},
     "output_type": "execute_result"
    }
   ],
   "source": [
    "x=y\n",
    "x-=1\n",
    "print(x,y)\n",
    "(id(x),id(y))\n",
    "(x is y , x==y)"
   ]
  },
  {
   "cell_type": "code",
   "execution_count": 47,
   "metadata": {},
   "outputs": [
    {
     "data": {
      "text/plain": [
       "False"
      ]
     },
     "execution_count": 47,
     "metadata": {},
     "output_type": "execute_result"
    }
   ],
   "source": [
    "x=257\n",
    "y=257\n",
    "x is y\n",
    "\n"
   ]
  },
  {
   "cell_type": "code",
   "execution_count": 58,
   "metadata": {},
   "outputs": [
    {
     "data": {
      "text/plain": [
       "[3, 4, 7, 10]"
      ]
     },
     "execution_count": 58,
     "metadata": {},
     "output_type": "execute_result"
    }
   ],
   "source": [
    "sorted((10,3,7,4))"
   ]
  },
  {
   "cell_type": "code",
   "execution_count": 73,
   "metadata": {},
   "outputs": [
    {
     "data": {
      "text/plain": [
       "4"
      ]
     },
     "execution_count": 73,
     "metadata": {},
     "output_type": "execute_result"
    }
   ],
   "source": [
    "import random\n",
    "x=random.randrange(4,9,2)\n",
    "x\n",
    "#print(\"affichier le nombre aleatoire {:.2f}\".format(x))"
   ]
  },
  {
   "cell_type": "code",
   "execution_count": 77,
   "metadata": {},
   "outputs": [
    {
     "name": "stdout",
     "output_type": "stream",
     "text": [
      "b\n",
      "o\n",
      "n\n",
      "j\n",
      "o\n",
      "u\n",
      "r\n"
     ]
    }
   ],
   "source": [
    "mot=\"bonjour\"\n",
    "for i in mot:\n",
    "    print(i)"
   ]
  },
  {
   "cell_type": "code",
   "execution_count": 97,
   "metadata": {},
   "outputs": [
    {
     "name": "stdout",
     "output_type": "stream",
     "text": [
      "10\n",
      "8\n",
      "6\n",
      "4\n"
     ]
    }
   ],
   "source": [
    "for i in range(10,2,-2):\n",
    "    print(i)"
   ]
  },
  {
   "cell_type": "code",
   "execution_count": 101,
   "metadata": {},
   "outputs": [],
   "source": [
    "x=int(input(\"donner un nombre : \"))\n",
    "while not (x>0):\n",
    "    x=int(input(\"donner un nombre : \"))\n",
    "    print(x)\n",
    "    "
   ]
  },
  {
   "cell_type": "code",
   "execution_count": 106,
   "metadata": {},
   "outputs": [
    {
     "name": "stdout",
     "output_type": "stream",
     "text": [
      "entrez un nombre (0 pour arreter) : 0\n",
      "la somme des nombres est 3\n"
     ]
    }
   ],
   "source": [
    "x=int(input(\"donner un nombre : \"))\n",
    "s=0\n",
    "while (x!=0):\n",
    "    s+=x\n",
    "    x=int(input(\"donner un nombre : \"))\n",
    "print(f\"entrez un nombre (0 pour arreter) : {x}\")\n",
    "print(f\"la somme des nombres est {s}\")"
   ]
  },
  {
   "cell_type": "code",
   "execution_count": null,
   "metadata": {},
   "outputs": [],
   "source": [
    "s=0\n",
    "while True :\n",
    "     x=int(input(\"donner un nombre : \"))\n",
    "     if x==0:\n",
    "          break\n",
    "     s+=x\n",
    "     print(f\"la somme des nombres est {s}\")"
   ]
  },
  {
   "cell_type": "code",
   "execution_count": 109,
   "metadata": {},
   "outputs": [
    {
     "name": "stdout",
     "output_type": "stream",
     "text": [
      "La somme des nombres est 1\n",
      "La somme des nombres est 3\n"
     ]
    }
   ],
   "source": [
    "s = 0\n",
    "x = None  \n",
    "while not x == 0:  \n",
    "    x = int(input(\"Donner un nombre (0 pour arrêter) : \"))\n",
    "    if x != 0:\n",
    "        s += x\n",
    "        print(f\"La somme des nombres est {s}\")\n"
   ]
  },
  {
   "cell_type": "code",
   "execution_count": 112,
   "metadata": {},
   "outputs": [
    {
     "name": "stdout",
     "output_type": "stream",
     "text": [
      "Iteration 1\n",
      "Iteration 2\n",
      "Iteration 4\n",
      "Iteration 5\n"
     ]
    }
   ],
   "source": [
    "i=0\n",
    "while i<5:\n",
    "    i+=1\n",
    "    if i == 3 :\n",
    "       #i+=1\n",
    "       continue\n",
    "    print(f\"Iteration {i}\")"
   ]
  },
  {
   "cell_type": "code",
   "execution_count": 279,
   "metadata": {},
   "outputs": [
    {
     "name": "stdout",
     "output_type": "stream",
     "text": [
      " Bonjour \n",
      "je suis islem \n",
      "une etudiante 1 er annee cyecle \n",
      "d ing en genie informatique \n",
      "À_l'institut_IIT . À sfax\n",
      "Je suis islem \n",
      "2\n",
      "[\"À_l'institut_IIT\", '.', 'À', 'sfax']\n",
      "Bonjour\n",
      "je suis islem\n"
     ]
    }
   ],
   "source": [
    "ch=' Bonjour '\n",
    "ch1=\"je suis islem \"\n",
    "ch2=\"\"\"une etudiante 1 er annee cyecle \\nd ing en genie informatique \"\"\"\n",
    "ch3='À_l\\'institut_IIT . À sfax'\n",
    "ch4=\"MERCI\" \n",
    "\n",
    "print(ch)\n",
    "print(ch1)\n",
    "print(ch2)\n",
    "print(ch3)\n",
    "print(ch[6]==ch[-2])\n",
    "print(len(ch))\n",
    "print(len(ch1))\n",
    "print(len(ch2))\n",
    "print(len(ch3))\n",
    "print(ch+ch1+ch2+ch3 )\n",
    "print(ch[4]*2)\n",
    "print(ch1[3:-3])\n",
    "print(ch2.capitalize(),\"\\n\",ch3.capitalize())\n",
    "print(ch3.swapcase())\n",
    "print(ch2.title())\n",
    "print(ch2[14].isnumeric())\n",
    "print(ch2.isnumeric())\n",
    "print(ch.isalpha())\n",
    "print(ch4.isupper())\n",
    "print(ch4.islower())\n",
    "print(ch4.startswith(\"MER\"))\n",
    "print(ch4.endswith(\"weckend\"))\n",
    "print(ch.count('o'))\n",
    "print(ch.find('k'))\n",
    "print(ch1.replace('j','J'))\n",
    "print(ch2.index('e'))#position de premier 'e'\n",
    "nouveau_ch3=ch3.split()\n",
    "print(nouveau_ch3)\n",
    "print(ch.strip())\n",
    "print(ch1.rstrip())\n",
    "#for i in range (len (ch2)):\n",
    "#   print(i)\n"
   ]
  },
  {
   "cell_type": "code",
   "execution_count": 290,
   "metadata": {},
   "outputs": [
    {
     "name": "stdout",
     "output_type": "stream",
     "text": [
      "[2, 'Bonjour', 2, True, 13.3, [1, 3]]\n",
      "<class 'list'>\n",
      "[2, 3, 4, 5, 6]\n",
      "6\n",
      "2\n",
      "1\n",
      "[[1, 3], 13.3, True, 2, 'Bonjour', 2]\n",
      "[[1, 3], True, 'Bonjour']\n",
      "[2, 'Bonjour', 2, True]\n",
      "[2, 'Bonjour', 2, True, 13.3]\n",
      "['Salut', 'Bonjour', 2, True, 13.3, [1, 3]]\n",
      "['Salut', 'Bonjour', 2, True, ['c', 10], [1, 3]]\n",
      "['Salut', 'Bonjour', 2, True, ['c', 10], [1, 3], ('Ab', 'Z', '1')]\n",
      "['Salut', 'Bonjour', 2, True, ['c', 10], [1, 3], ('Ab', 'Z', '1'), 1, 2, 'C']\n",
      "['Salut', 'Bonjour', 2, True, 'BB', ['c', 10], [1, 3], ('Ab', 'Z', '1'), 1, 2, 'C']\n",
      "['Salut', 'Bonjour', True, 'BB', ['c', 10], [1, 3], ('Ab', 'Z', '1'), 1, 2, 'C']\n",
      "['Salut', 'Bonjour', True, ['c', 10], [1, 3], ('Ab', 'Z', '1'), 1, 2, 'C']\n"
     ]
    }
   ],
   "source": [
    "liste=[2,\"Bonjour\",2,True,13.3,[1,3]]\n",
    "\n",
    "print(liste) \n",
    "print(type(liste))\n",
    "print(list(range(2,7)))\n",
    "l=list() \n",
    "print(len(liste))\n",
    "print(liste[-len(liste)])\n",
    "print(liste[-1][0])\n",
    "print(liste[::-1])\n",
    "print(liste[::-2])\n",
    "print(liste[:-2])\n",
    "print(liste[:-1])\n",
    "liste[0]='Salut'\n",
    "print(liste)\n",
    "liste[4]=['c',10]\n",
    "print(liste)\n",
    "liste.append(('Ab' ,'Z','1'))\n",
    "print(liste)\n",
    "liste.extend((1,2,'C'))\n",
    "print(liste)    \n",
    "liste.insert(4,\"BB\")\n",
    "print(liste)      \n",
    "liste.remove(2) \n",
    "print(liste)  \n",
    "liste.pop(3)\n",
    "print(liste) \n",
    "liste.sort(reverse=True)\n",
    "print(liste) \n",
    "\n",
    "\n"
   ]
  },
  {
   "cell_type": "code",
   "execution_count": 310,
   "metadata": {},
   "outputs": [
    {
     "name": "stdout",
     "output_type": "stream",
     "text": [
      "3\n",
      "[1, 2, 3, 7, 2, 2]\n",
      "[1, 2, 3, 'BBB', 7, 2, 2]\n",
      "[2, 2, 7, 'BBB', 3, 2, 1]\n",
      "[2, 2, 7, 'BBB', 3, 2, 1]\n"
     ]
    }
   ],
   "source": [
    "liste=[1,2,3,7,2,2]\n",
    "print(liste.count(2))\n",
    "print(liste.copy())\n",
    "liste.insert(3,\"BBB\")\n",
    "print(liste)\n",
    "liste.reverse()\n",
    "print(liste)\n",
    "reversed(liste)\n",
    "print(liste)\n",
    "\n",
    "#for i in reversed (liste):\n",
    "#    print(i)\n"
   ]
  },
  {
   "cell_type": "code",
   "execution_count": 309,
   "metadata": {},
   "outputs": [
    {
     "name": "stdout",
     "output_type": "stream",
     "text": [
      "[1, 2, 2, 2, 3, 7]\n"
     ]
    }
   ],
   "source": [
    "liste=[1, 2, 3, 7, 2, 2]\n",
    "liste.sort()\n",
    "print(liste)"
   ]
  },
  {
   "cell_type": "code",
   "execution_count": 312,
   "metadata": {},
   "outputs": [
    {
     "name": "stdout",
     "output_type": "stream",
     "text": [
      "[4, 8, 12]\n"
     ]
    }
   ],
   "source": [
    "liste=[2,4,6]\n",
    "newliste=[x*2 for x in liste]\n",
    "print(newliste)\n"
   ]
  },
  {
   "cell_type": "code",
   "execution_count": 319,
   "metadata": {},
   "outputs": [
    {
     "name": "stdout",
     "output_type": "stream",
     "text": [
      "['ad', 'ae', 'bd', 'be', 'cd', 'ce']\n"
     ]
    }
   ],
   "source": [
    "#liste=['aa','ae','bd','be','cd','ce']\n",
    "ch = \"abc\"\n",
    "ch1 = \"de\"\n",
    "liste = list()\n",
    "\n",
    "for i in ch:\n",
    "    for j in ch1:\n",
    "        liste.append(i+j)\n",
    "print(liste)\n"
   ]
  },
  {
   "cell_type": "code",
   "execution_count": 320,
   "metadata": {},
   "outputs": [
    {
     "name": "stdout",
     "output_type": "stream",
     "text": [
      "['ad', 'ae', 'bd', 'be', 'cd', 'ce']\n"
     ]
    }
   ],
   "source": [
    "ch = \"abc\"\n",
    "ch1 = \"de\"\n",
    "liste=[i+j for i in ch for j in ch1]\n",
    "print(liste)"
   ]
  },
  {
   "cell_type": "code",
   "execution_count": 332,
   "metadata": {},
   "outputs": [
    {
     "name": "stdout",
     "output_type": "stream",
     "text": [
      "['aa', 'bb', 'cc', 'dd', 'ee', 'aaa', 'bbb', 'ccc', 'ddd', 'eee']\n"
     ]
    }
   ],
   "source": [
    "ch = \"abcde\"\n",
    "liste = [i*2 for i in ch] + [i*3 for i in ch]\n",
    "print(liste)\n"
   ]
  },
  {
   "cell_type": "code",
   "execution_count": 7,
   "metadata": {},
   "outputs": [
    {
     "name": "stdout",
     "output_type": "stream",
     "text": [
      "15\n",
      "4\n"
     ]
    }
   ],
   "source": [
    "a=int(float(\"15.5\"))\n",
    "print(a)\n",
    "b=eval(input(\"chaine\"))\n",
    "print(b)"
   ]
  },
  {
   "cell_type": "code",
   "execution_count": 12,
   "metadata": {},
   "outputs": [
    {
     "name": "stdout",
     "output_type": "stream",
     "text": [
      "11:24\n"
     ]
    }
   ],
   "source": [
    "while True:\n",
    "    h=int(input(\"saisir l'heur : \"))\n",
    "    if h in range(24):\n",
    "        break\n",
    "while True:\n",
    "    m=int(input(\"saisir minute : \"))\n",
    "    if m in range(60):\n",
    "        break\n",
    "if h==23 and m == 59:\n",
    "    h=0\n",
    "    m=0\n",
    "elif m==59:\n",
    "    h+=1\n",
    "    m=0\n",
    "else:\n",
    "    m+=1\n",
    "\n",
    "print(f'{h:02}:{m:02}')\n"
   ]
  },
  {
   "cell_type": "code",
   "execution_count": 13,
   "metadata": {},
   "outputs": [
    {
     "name": "stdout",
     "output_type": "stream",
     "text": [
      "Aap44193th23zyt889D3on\n"
     ]
    }
   ],
   "source": [
    "mot = \" Aap44193th23zyt889D3on \"\n",
    "mot=mot.strip()\n",
    "print(mot)\n"
   ]
  },
  {
   "cell_type": "code",
   "execution_count": 15,
   "metadata": {},
   "outputs": [
    {
     "name": "stdout",
     "output_type": "stream",
     "text": [
      "Nombre de lettres en maj = 2\n"
     ]
    }
   ],
   "source": [
    "mot = \"Aap44193th23zyt889D3on\"\n",
    "s=0\n",
    "for i in mot:\n",
    "      if i.isupper():\n",
    "         s+=1\n",
    "print(f'Nombre de lettres en maj = {s}')"
   ]
  },
  {
   "cell_type": "code",
   "execution_count": 24,
   "metadata": {},
   "outputs": [
    {
     "name": "stdout",
     "output_type": "stream",
     "text": [
      "Nombre de caractères non redondants = 11\n"
     ]
    }
   ],
   "source": [
    "mot = \"Aap44193th23zyt889D3on\"\n",
    "nb = 0\n",
    "for i in mot:\n",
    "    if mot.count(i)==1:\n",
    "        nb+=1\n",
    "print(f'Nombre de caractères non redondants = {nb}')\n"
   ]
  },
  {
   "cell_type": "code",
   "execution_count": 25,
   "metadata": {},
   "outputs": [
    {
     "name": "stdout",
     "output_type": "stream",
     "text": [
      "no3D988tyz32ht39144p??\n"
     ]
    }
   ],
   "source": [
    "mot=mot.replace('a','?').replace('A','?')[::-1]\n",
    "print(mot)"
   ]
  },
  {
   "cell_type": "code",
   "execution_count": 30,
   "metadata": {},
   "outputs": [
    {
     "name": "stdout",
     "output_type": "stream",
     "text": [
      "no3D@tyz32ht@44p??\n",
      "no3D@tyz32ht@44p??\n",
      "16\n"
     ]
    }
   ],
   "source": [
    "#exemple1\n",
    "import re \n",
    "mot='no3D988tyz32ht39144p??'\n",
    "mot_modif=re.sub(r'\\d{3}','@',mot)\n",
    "print(mot_modif)\n",
    "#exemple2\n",
    "mot1=''\n",
    "i=0\n",
    "while i<len(mot):\n",
    "    if i<len(mot)-3 and mot [i:i+3].isdigit():\n",
    "        mot1+='@'\n",
    "        i+=3\n",
    "    else:\n",
    "        mot1+=mot[i]\n",
    "        i+=1\n",
    "print(mot1)\n",
    "t=0\n",
    "for i in mot1:\n",
    "    if(i.isdigit()):\n",
    "        t+=int(i)\n",
    "print(t)"
   ]
  },
  {
   "cell_type": "code",
   "execution_count": 12,
   "metadata": {},
   "outputs": [
    {
     "name": "stdout",
     "output_type": "stream",
     "text": [
      "l_ch : [['populaire', 2], ['Python', 2], ['simple', 1], ['est', 4]]\n",
      "l_ch = [['Python', 2], ['populaire', 2], ['simple', 1], ['est', 4]]\n",
      "l_ch_mod = [['Python', 'Python'], ['populaire', 'populaire'], ['simple'], ['est', 'est', 'est', 'est']]\n",
      "chT = Python*Python*populaire*populaire*simple*est*est*est*est\n"
     ]
    }
   ],
   "source": [
    "#Exercice2 N°1\n",
    "from random import*\n",
    "ch=\"Python est est est populaire \\n Python populaire est simple\"\n",
    "ch = ch.split()  \n",
    "l_ch = [] \n",
    "mots_uniques = set(ch) #set c est a dire non ordoneer\n",
    "for i in mots_uniques:\n",
    "    occ = ch.count(i) \n",
    "    l_ch.append([i, occ])  \n",
    "\n",
    "print(\"l_ch :\", l_ch)\n",
    "# deuxieme solution\n",
    "ch = \"Python est est est populaire \\n Python populaire est simple\"\n",
    "ch = ch.split()  \n",
    "l_ch = [(i, ch.count(i)) for i in set(ch)]\n",
    "print(\"l_ch :\", l_ch)\n",
    "\n",
    "#N°2\n",
    "shuffle(l_ch)\n",
    "print(f\"l_ch = {l_ch}\")\n",
    "\n",
    "\n",
    "#N°3\n",
    "\n",
    "l_ch_mod = []\n",
    "for mot, occ in l_ch:\n",
    "    l_ch_mod.append([mot] * occ)\n",
    "print(\"l_ch_mod =\", l_ch_mod)\n",
    "\n",
    "#N°4\n",
    "\n",
    "chT = '*'.join([i for sl in l_ch_mod for i in sl])\n",
    "print(\"chT =\", chT)\n"
   ]
  },
  {
   "cell_type": "code",
   "execution_count": null,
   "metadata": {},
   "outputs": [],
   "source": []
  },
  {
   "cell_type": "code",
   "execution_count": 16,
   "metadata": {},
   "outputs": [
    {
     "name": "stdout",
     "output_type": "stream",
     "text": [
      "l_ch : [('populaire', 2), ('Python', 2), ('simple', 1), ('est', 4)]\n"
     ]
    }
   ],
   "source": []
  },
  {
   "cell_type": "code",
   "execution_count": 5,
   "metadata": {},
   "outputs": [
    {
     "name": "stdout",
     "output_type": "stream",
     "text": [
      "0\n",
      "2\n",
      "4\n"
     ]
    }
   ],
   "source": [
    "k = 0\n",
    "while k < 6 :\n",
    "    print(k)\n",
    "    k += 2\n",
    " \n"
   ]
  },
  {
   "cell_type": "code",
   "execution_count": 12,
   "metadata": {},
   "outputs": [
    {
     "name": "stdout",
     "output_type": "stream",
     "text": [
      "(['Python', 'C++', 'VB.Net'], ['Java', 'C#', 'Javascript'])\n"
     ]
    }
   ],
   "source": [
    "def odd_event(L):\n",
    "    # obtenir la longueur de la liste\n",
    "    n = len(L)\n",
    "    # initialisation des listes d'indices impair et d'indices pair\n",
    "    l_odd = []\n",
    "    l_even = []\n",
    "    \n",
    "    # construire les liste l_odd et l_even\n",
    "    for i in range(0 , n):\n",
    "        if( i%2 == 0):\n",
    "            l_even.append(L[i])\n",
    "        else:\n",
    "            l_odd.append(L[i])\n",
    "    \n",
    "    return (l_even , l_odd)\n",
    "     \n",
    "# Exemple   \n",
    "L = [\"Python\" , \"Java\" , \"C++\" , \"C#\" , \"VB.Net\" , \"Javascript\"]\n",
    "print(odd_event(L))\n",
    "\n"
   ]
  },
  {
   "cell_type": "code",
   "execution_count": 13,
   "metadata": {},
   "outputs": [
    {
     "name": "stdout",
     "output_type": "stream",
     "text": [
      "['Python', 'C++', 'VB.Net'] ['Java', 'C#', 'Javascript']\n"
     ]
    }
   ],
   "source": [
    "L = [\"Python\" , \"Java\" , \"C++\" , \"C#\" , \"VB.Net\" , \"Javascript\"]\n",
    "l_odd = []\n",
    "l_even = []\n",
    "for i in range(0 ,len(L)):\n",
    "        if( i%2 == 0):\n",
    "            l_even.append(L[i])\n",
    "        else:\n",
    "            l_odd.append(L[i])\n",
    "print (l_even , l_odd)"
   ]
  },
  {
   "cell_type": "code",
   "execution_count": 14,
   "metadata": {},
   "outputs": [
    {
     "name": "stdout",
     "output_type": "stream",
     "text": [
      "[6, 18, 10, 46]\n"
     ]
    }
   ],
   "source": [
    "def listMultiply(L,n):\n",
    "    # initialisation de la liste souhaitée\n",
    "    l_mult = []\n",
    "    # parcourir et multiplier les éléments de la liste par n\n",
    "    for x in L:\n",
    "        l_mult.append(n*x)\n",
    "        \n",
    "    return l_mult\n",
    " \n",
    "# Exemple\n",
    "n = 2\n",
    "L = [3, 9 , 5 , 23]\n",
    "print(listMultiply(L,n)) # affiche [6, 18, 10, 46]"
   ]
  },
  {
   "cell_type": "code",
   "execution_count": 15,
   "metadata": {},
   "outputs": [
    {
     "name": "stdout",
     "output_type": "stream",
     "text": [
      "[6, 18, 10, 46]\n"
     ]
    }
   ],
   "source": [
    "L = [3, 9 , 5 , 23]\n",
    "L=[i*2 for i in  L]\n",
    "print(L)\n"
   ]
  },
  {
   "cell_type": "code",
   "execution_count": 27,
   "metadata": {},
   "outputs": [
    {
     "name": "stdout",
     "output_type": "stream",
     "text": [
      "5 41\n"
     ]
    }
   ],
   "source": [
    "L = [41, 19 , 5 , 21 ,7 , 11]\n",
    "Liste=sorted(L)\n",
    "min=Liste[0]\n",
    "max=Liste[-1]\n",
    "print(min,max)"
   ]
  },
  {
   "cell_type": "code",
   "execution_count": 32,
   "metadata": {},
   "outputs": [
    {
     "name": "stdout",
     "output_type": "stream",
     "text": [
      "[5, 19, 21, 13]\n"
     ]
    }
   ],
   "source": [
    "L = [5 , 19 , 5 , 21 , 5 , 13 , 21, 5]\n",
    "Liste=[]\n",
    "for i in L:\n",
    "    if i not in Liste:\n",
    "        Liste.append(i)\n",
    "print(Liste)\n",
    "\n",
    "\n",
    "\n",
    "\n"
   ]
  },
  {
   "cell_type": "code",
   "execution_count": 37,
   "metadata": {},
   "outputs": [
    {
     "name": "stdout",
     "output_type": "stream",
     "text": [
      "[11, 3, 22, 7]\n"
     ]
    }
   ],
   "source": [
    "L1 = [11 , 3 , 22 , 7 , 13 , 23 , 9]\n",
    "L2 = [5 , 9 , 19 , 23 , 10 , 23 , 13]\n",
    "Liste=[]\n",
    "for i in L1:\n",
    "        if i not in L2:\n",
    "          Liste.append(i) \n",
    "print(Liste)"
   ]
  },
  {
   "cell_type": "code",
   "execution_count": null,
   "metadata": {},
   "outputs": [],
   "source": [
    "L = [\"Python\" , \"created on\", 91 , \"by Guido Van Rosam\"] "
   ]
  },
  {
   "cell_type": "code",
   "execution_count": 2,
   "metadata": {},
   "outputs": [
    {
     "name": "stdout",
     "output_type": "stream",
     "text": [
      "Script'4\n",
      "6\n",
      "5\n",
      "4\n"
     ]
    }
   ],
   "source": [
    "print(\"Script\",\"4\", sep=\"'\")\n",
    "for i in range(6,3,-1):\n",
    "    print(i)"
   ]
  },
  {
   "cell_type": "code",
   "execution_count": 3,
   "metadata": {},
   "outputs": [
    {
     "name": "stdout",
     "output_type": "stream",
     "text": [
      "iSLEM\n"
     ]
    }
   ],
   "source": [
    "ch=\"Islem\"\n",
    "print(ch.swapcase())"
   ]
  },
  {
   "cell_type": "code",
   "execution_count": 4,
   "metadata": {},
   "outputs": [
    {
     "name": "stdout",
     "output_type": "stream",
     "text": [
      "['ad', 'ae', 'bd', 'be', 'cd', 'ce']\n"
     ]
    }
   ],
   "source": [
    "ch = \"abc\"\n",
    "ch1 = \"de\"\n",
    "liste=[i+j for i in ch for j in ch1]\n",
    "print(liste)"
   ]
  },
  {
   "cell_type": "code",
   "execution_count": 6,
   "metadata": {},
   "outputs": [
    {
     "name": "stdout",
     "output_type": "stream",
     "text": [
      "(0, 'a')\n",
      "(1, 'b')\n",
      "(2, 'c')\n"
     ]
    }
   ],
   "source": [
    "t='a','b','c'\n",
    "for x in enumerate (t):\n",
    "    print(x)"
   ]
  },
  {
   "cell_type": "code",
   "execution_count": 9,
   "metadata": {},
   "outputs": [
    {
     "name": "stdout",
     "output_type": "stream",
     "text": [
      "15 12\n"
     ]
    }
   ],
   "source": [
    "x=2\n",
    "\n",
    "y=6\n",
    "if x>3:\n",
    "    y+=x\n",
    "elif y!=0:\n",
    "    y*=x\n",
    "else:\n",
    "    x=1\n",
    "x=15\n",
    "print(x,y)"
   ]
  },
  {
   "cell_type": "code",
   "execution_count": 40,
   "metadata": {},
   "outputs": [
    {
     "name": "stdout",
     "output_type": "stream",
     "text": [
      "Inn@vation@IIT _@024\n"
     ]
    }
   ],
   "source": [
    "ch=\"Innovation IIT _2024\"\n",
    "for c in ch:\n",
    "    if ch.count(c)==2:\n",
    "        ch=ch.replace(c,'@',1)\n",
    "print(ch)\n"
   ]
  },
  {
   "cell_type": "code",
   "execution_count": 61,
   "metadata": {},
   "outputs": [
    {
     "name": "stdout",
     "output_type": "stream",
     "text": [
      "{1, 2, 3}\n",
      "{2, 3}\n"
     ]
    }
   ],
   "source": [
    "e={1,2,3}\n",
    "print(e)\n",
    "x=e.pop()\n",
    "print(e)\n"
   ]
  },
  {
   "cell_type": "code",
   "execution_count": null,
   "metadata": {},
   "outputs": [],
   "source": [
    "e = {1,2,4}\n",
    "e1 = {\"A\",1,3,4,\"B\",1}\n",
    "e | e1 #or e.union(e1)"
   ]
  },
  {
   "cell_type": "code",
   "execution_count": 78,
   "metadata": {},
   "outputs": [
    {
     "name": "stdout",
     "output_type": "stream",
     "text": [
      "{'Toyota': 25000, 'Honda': 22000, 'Ford': 55000}\n",
      "dict_keys(['Toyota', 'Honda', 'Ford'])\n",
      "['Ford', 'Honda', 'Toyota']\n",
      "dict_values([25000, 22000, 55000])\n",
      "25000\n",
      "22000\n",
      "55000\n",
      "<class 'int'>\n",
      "dict_items([('Toyota', 25000), ('Honda', 22000), ('Ford', 55000)])\n",
      "<class 'dict_items'>\n"
     ]
    }
   ],
   "source": [
    "d_voitures = {\"Toyota\":25000, \"Honda\":22000}\n",
    "d_voitures[\"Ford\"] = 55000 \n",
    "print(d_voitures)\n",
    "print(d_voitures.keys()) \n",
    "y=sorted(d_voitures.keys())\n",
    "print(y)\n",
    "print(d_voitures.values())\n",
    "for x in d_voitures.values():\n",
    "    print(x)\n",
    "print(type(x))\n",
    "\"Ford\" in d_voitures\n",
    "\"Ford\" in d_voitures.keys()\n",
    "print(d_voitures.items())\n",
    "print(type(d_voitures.items()))\n"
   ]
  },
  {
   "cell_type": "code",
   "execution_count": null,
   "metadata": {},
   "outputs": [],
   "source": [
    "liste=[[1, 'a','b'],[2, 'b','c'],[3, 'c','e']]\n",
    "dico= {1:('a','b'),2:('b','c'),3:('c','e')}#reultat dic en comprehension"
   ]
  },
  {
   "cell_type": "code",
   "execution_count": 93,
   "metadata": {},
   "outputs": [
    {
     "name": "stdout",
     "output_type": "stream",
     "text": [
      "['cat', 'dog', 'hamster']\n",
      "[100, 50, 20]\n",
      "[('cat', 100), ('dog', 50), ('hamster', 20)]\n",
      "cette animal n existe pas\n"
     ]
    }
   ],
   "source": [
    "d = {\"cat\":100, \"dog\":50, \"hamster\":20} \n",
    "print(sorted(d.keys()))\n",
    "print(sorted(d.values(),reverse=True))\n",
    "print(sorted(d.items()))\n",
    "x=d.get(\"chat\",\"cette animal n existe pas\")\n",
    "print(x)"
   ]
  },
  {
   "cell_type": "code",
   "execution_count": null,
   "metadata": {},
   "outputs": [],
   "source": []
  },
  {
   "cell_type": "code",
   "execution_count": 94,
   "metadata": {},
   "outputs": [
    {
     "data": {
      "text/plain": [
       "{'C'}"
      ]
     },
     "execution_count": 94,
     "metadata": {},
     "output_type": "execute_result"
    }
   ],
   "source": [
    "set(\"ABBC\")-{j for j in \"ABBAAB\" }"
   ]
  },
  {
   "cell_type": "code",
   "execution_count": 122,
   "metadata": {},
   "outputs": [
    {
     "name": "stdout",
     "output_type": "stream",
     "text": [
      "{'Doliprane': 1, 'GelNettoyant': 2, 'Dermosalic': 1, 'Fervex': 3}\n",
      "{'Doliprane', 'GelNettoyant'}\n",
      "{'Doliprane', 'GelNettoyant'}\n",
      "{'Dermosalic', 'Fervex'}\n",
      "[('Doliprane', 3.0), ('GelNettoyant', 31.0), ('Dermosalic', None), ('Fervex', None)]\n",
      "[('Doliprane', 3.0), ('GelNettoyant', 31.0), ('Dermosalic', None), ('Fervex', None)]\n",
      "30.6\n"
     ]
    }
   ],
   "source": [
    "b_pharm={'Doliprane':3.000,'Efferalgan':4.500,'orelox':9.250,'EcranFacial':35.900,'Paracétamol':11.800,'Atropine':22.500,'Augmentin':23.400,'GelNettoyant':15.500,'Thermométre':8.200,'SondeAspiration':12.500}\n",
    "c_client=[{'Doliprane': 1}, {'GelNettoyant': 2},{'Dermosalic': 1}, {'Fervex': 3}]\n",
    "#question n°1\n",
    "c_client_dict = {k: v for d in c_client for k, v in d.items()}\n",
    "print(c_client_dict)\n",
    "c_client_dict = {x:d[x] for d in c_client for x in d}\n",
    "\n",
    "#question n°2\n",
    "#1er meth\n",
    "prod_disp=set()\n",
    "for c in c_client_dict.keys():\n",
    "    for k in b_pharm.keys():\n",
    "        if (c==k):\n",
    "             prod_disp.add(c)\n",
    "print(prod_disp)\n",
    "\n",
    "#2eme meth\n",
    "prod_disp = set(c_client_dict.keys()).intersection.set(b_pharm.keys())\n",
    "print(prod_disp)\n",
    "\n",
    "#question n°3\n",
    "prod_non_disp =set(c_client_dict.keys()).difference(b_pharm.keys())\n",
    "print(prod_non_disp)\n",
    "\n",
    "#question n°4\n",
    "\n",
    "l_cmd = []\n",
    "\n",
    "for c, v in c_client_dict.items():\n",
    "\n",
    "    if c in b_pharm:\n",
    "        prix_total = b_pharm[c] * v  \n",
    "        l_cmd.append((c, prix_total))\n",
    "    else:\n",
    "        l_cmd.append((c, None)) \n",
    "print(l_cmd)\n",
    "\n",
    "\n",
    "#2eme meth\n",
    "\n",
    "l_cmd=[(c,c_client_dict[c] * b_pharm[c] if c in b_pharm else None) for c in c_client_dict ]\n",
    "print(l_cmd)   \n",
    "\n",
    "#question n°5\n",
    "\n",
    "montant_total = sum(price for _, price in l_cmd if price is not None)\n",
    "if len(prod_non_disp) > 1:\n",
    "    montant_total *= 0.9\n",
    "print(round(montant_total, 2))\n",
    "\n",
    "montant_total=[]\n",
    "print(round(montant_total, 2))\n",
    "\n"
   ]
  },
  {
   "cell_type": "code",
   "execution_count": 123,
   "metadata": {},
   "outputs": [
    {
     "name": "stdout",
     "output_type": "stream",
     "text": [
      "{'B': 1, 'o': 2, 'n': 2, ' ': 4, 'r': 3, 'e': 3, 't': 3, 'u': 2, 'm': 1, 's': 3, 'c': 1, 'h': 1, 'é': 1, 'd': 1, 'i': 1, 'a': 1}\n"
     ]
    }
   ],
   "source": [
    "ch=\"Bon retour mes chers étudiants\"\n",
    "freq={i:ch.count(i) for i in ch }\n",
    "print(freq)\n",
    "freq.update({i:ch.count(i)})\n",
    "print(freq)\n"
   ]
  },
  {
   "cell_type": "code",
   "execution_count": 135,
   "metadata": {},
   "outputs": [
    {
     "name": "stdout",
     "output_type": "stream",
     "text": [
      "{1: ('a', 'b'), 2: ('b', 'c'), 3: ('c', 'e')}\n",
      "{1: {'name': 'a', 'forname': [2]}, 2: {'name': 'b', 'forname': [2]}, 3: {'name': 'c', 'forname': [2]}}\n",
      "{1: {'name': 'a', 'forname': [2]}, 2: {'name': 'b', 'forname': [2]}, 3: {'name': 'c', 'forname': [2]}}\n"
     ]
    }
   ],
   "source": [
    "liste=[[1, 'a','b'],[2, 'b','c'],[3, 'c','e']]\n",
    "dico={k:(i,j) for k,i,j in liste}\n",
    "print(dico)\n",
    "liste=[[1, 'a','b'],[2, 'b','c'],[3, 'c','e']]\n",
    "\n",
    "dico_tran={x[0]:{'name':x[1],\"forname\":[2]} for x in liste }\n",
    "print(dico_tran)\n",
    "print(dico_tran)\n",
    "#dico= {1:('a','b'),2:('b','c'),3:('c','e')}#reultat dic en comprehension"
   ]
  },
  {
   "cell_type": "code",
   "execution_count": 39,
   "metadata": {},
   "outputs": [
    {
     "name": "stdout",
     "output_type": "stream",
     "text": [
      "Tupp = (9, 6, 3, 9, 10, 7, 9)\n",
      "tupp_seg = [[9, 6, 3], [9], [10], [9, 7]]\n",
      "tupp_seg modifié = [[18, 9, 6, 3], [9, 9], [10, 10], [16, 9, 7]]\n",
      "Chaîne de caractères: 189639910101697\n"
     ]
    }
   ],
   "source": [
    "#exercice3\n",
    "from random import randint\n",
    "\n",
    "n = int(input(\"Donner un nombre : \"))\n",
    "\n",
    "if n <= 20:\n",
    "    tupp = tuple(randint(1, 10) for _ in range(n))\n",
    "    print(f\"Tupp = {tupp}\")\n",
    "else:\n",
    "    n = int(input(\"Donner un nombre inférieur ou égal à 20: \"))\n",
    "    tupp = tuple(randint(1, 10) for _ in range(n))\n",
    "    print(f\"Tupp = {tupp}\")\n",
    "     \n",
    "\n",
    "i = 0\n",
    "tupp_seg = []\n",
    "\n",
    "while i < len(tupp):\n",
    "    k = int(input(f\"Donner un nombre k (taille de la sous-liste à partir de l'index {i}): \"))\n",
    "    \n",
    "    if k > len(tupp) - i:\n",
    "        k = len(tupp) - i  \n",
    "\n",
    "    sous_liste = list(sorted(tupp[i:i + k], reverse=True))\n",
    "    \n",
    "    tupp_seg.append(sous_liste)\n",
    "    \n",
    "    i += k\n",
    "\n",
    "print(\"tupp_seg = \", tupp_seg)\n",
    "\n",
    "for lst in tupp_seg:\n",
    "    somme = sum(lst)  \n",
    "    lst.insert(0, somme)  \n",
    "\n",
    "print(\"tupp_seg= \", tupp_seg)\n",
    "\n",
    "ch_nombre = ''.join(str(item) for sublist in tupp_seg for item in sublist)\n",
    "print(\"Ch_nombre = \", ch_nombre)"
   ]
  }
 ],
 "metadata": {
  "kernelspec": {
   "display_name": "Python 3",
   "language": "python",
   "name": "python3"
  },
  "language_info": {
   "codemirror_mode": {
    "name": "ipython",
    "version": 3
   },
   "file_extension": ".py",
   "mimetype": "text/x-python",
   "name": "python",
   "nbconvert_exporter": "python",
   "pygments_lexer": "ipython3",
   "version": "3.12.7"
  }
 },
 "nbformat": 4,
 "nbformat_minor": 2
}
